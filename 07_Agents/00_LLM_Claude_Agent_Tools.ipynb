{
 "cells": [
  {
   "cell_type": "markdown",
   "metadata": {},
   "source": [
    "## Bedrock model integration with Langchain Agents\n",
    "\n",
    "Certain applications demand an adaptable sequence of calls to language models and various utilities depending on user input. The Agent interface enables such flexibility for these applications. An agent has availability to a range of resources and selects which ones to utilize based on the user input. Agents are capable of using multiple tools and utilizing the output of one tool as the input for the next.  \n",
    "\n",
    "There are two primary categories of agents:\n",
    "\n",
    "- Action agents: At each interval, determine the subsequent action utilizing the outputs of all previous actions. \n",
    "- Plan-and-execute agents: Determine the complete order of actions initially, then implement them all without updating the plan.\n",
    "\n",
    "In this notebook, we will demonstrate the use `Zero-shot ReAct` and uses the [`ReAct`](https://arxiv.org/pdf/2205.00445.pdf) framework to select the appropriate tool based exclusively on the tool's description. It requires you provide the description of each tool. \n",
    "\n",
    "## Prerequisites\n",
    "* **Install Dependencies**: Be sure to run the [setup notebook](../00_Intro/bedrock_boto3_setup.ipynb) and install the dependencies.\n",
    "* **IAM Permissions**: The IAM profile running this notebook will need ReadOnly access to EC2. The best way to do this is attach the AmazonEC2ReadOnlyAccess policy to the IAM role this notebook is running under.\n",
    "* **Create an EC2 instance** with a tag name of 'delete' and a value of 'this instance should be stopped'. Once the instance has been started, set the state to stopped."
   ]
  },
  {
   "cell_type": "markdown",
   "metadata": {},
   "source": [
    "## Setup"
   ]
  },
  {
   "cell_type": "code",
   "execution_count": null,
   "metadata": {
    "tags": []
   },
   "outputs": [],
   "source": [
    "import boto3\n",
    "import json\n",
    "import os\n",
    "import sys\n",
    "\n",
    "module_path = \"..\"\n",
    "sys.path.append(os.path.abspath(module_path))\n",
    "from utils import bedrock, print_ww\n",
    "\n",
    "boto3_bedrock = bedrock.get_bedrock_client(os.environ.get('BEDROCK_ASSUME_ROLE', None))"
   ]
  },
  {
   "cell_type": "code",
   "execution_count": null,
   "metadata": {
    "tags": []
   },
   "outputs": [],
   "source": [
    "model_parameter = {\"temperature\": 0.0, \"top_p\": .5, \"max_tokens_to_sample\": 2000}"
   ]
  },
  {
   "cell_type": "markdown",
   "metadata": {},
   "source": [
    "## Using ReAct: Synergizing Reasoning and Acting in Language Models Framework\n",
    "Large language models can generate both explanations for their reasoning and task-specific responses in an alternating fashion. \n",
    "\n",
    "Producing reasoning explanations enables the model to infer, monitor, and revise action plans, and even handle unexpected scenarios. The action step allows the model to interface with and obtain information from external sources such as knowledge bases or environments.\n",
    "\n",
    "The ReAct framework could enable large language models to interact with external tools to obtain additional information that results in more accurate and fact-based responses."
   ]
  },
  {
   "cell_type": "code",
   "execution_count": null,
   "metadata": {
    "tags": []
   },
   "outputs": [],
   "source": [
    "from langchain.agents import load_tools\n",
    "from langchain.agents import initialize_agent, Tool\n",
    "from langchain.agents import AgentType\n",
    "from langchain.llms.bedrock import Bedrock\n",
    "from langchain import LLMMathChain\n"
   ]
  },
  {
   "cell_type": "code",
   "execution_count": null,
   "metadata": {
    "tags": []
   },
   "outputs": [],
   "source": [
    "llm = Bedrock(model_id=\"anthropic.claude-instant-v1\", client=boto3_bedrock, model_kwargs=model_parameter)\n"
   ]
  },
  {
   "cell_type": "markdown",
   "metadata": {},
   "source": [
    "## Custom Tools\n",
    "\n",
    "You can introduce your own tools within the agent to perform specific actions. These could consist of looking up data in a database, or making API calls. In this example, we'll stub out some tools that would make API calls on behalf of the agent. For simplicity, the code returns a hardcoded value, but experiment to create your own integrations.\n",
    "\n",
    "The example below pulls in two built-in tools for google search (SerpAPI) and a calculator (LLMMathChain). It also adds 4 custom tools:\n",
    "**EC2Search**: Simulates a search for EC2 instances given a tag name.\n",
    "**EC2Patch**: Simulates patching an EC2 instance.\n",
    "**EC2Stop**: Simulates shutting down an EC2 instance.\n",
    "**ChangeRecord**: Simulates writing a change record to a CMDB.\n",
    "\n",
    "Notice how the description provides context to when to use the tool. That is a key component - it uses the LLM to determine which tool, if any, best solves the question being asked. You don't need a word-for-word match, it will do its best to model which of the tools is the best fit.\n"
   ]
  },
  {
   "cell_type": "code",
   "execution_count": null,
   "metadata": {
    "tags": []
   },
   "outputs": [],
   "source": [
    "import json\n",
    "\n",
    "llm_math_chain = LLMMathChain.from_llm(llm=llm, verbose=False)\n",
    "tools = load_tools([\"llm-math\"], llm=llm)\n",
    "tools.append(Tool.from_function(\n",
    "        name=\"EC2Search\",\n",
    "        func=lambda x: f\"['i-00000000000','i-00000000001','i-00000000002']\",  # Mock Function, replace with a boto3 call\n",
    "        description=\"Use this when you need to list EC2 instances in json. It takes a single parameter tagname\"\n",
    "    ))\n",
    "tools.append(Tool.from_function(\n",
    "        name=\"EC2Volumes\",\n",
    "        func=lambda x: f\"['vol-06a9a75b13a3a754f']\",  # Mock Function, replace with a boto3 call\n",
    "        description=\"Use this when you need to list the EC2 volumes given the instance id. It takes a single parameter instanceid\"\n",
    "    ))\n",
    "tools.append(Tool.from_function(\n",
    "        name=\"EC2Stop\",\n",
    "        func=lambda x: f\"{len(x.split(','))} instances stopped\",  # Mock Function, replace with a boto3 call\n",
    "        description=\"Use this when you need to stop EC2 instances. It takes a single parameter instanceid.\"\n",
    "    ))\n",
    "\n",
    "def record_change(x):\n",
    "    print(f\"*{x}*\")\n",
    "    j = json.loads(x)\n",
    "    return f\"instance {j['instance']}. ACTION: {j['changeType']} recorded in CMDB\" # Mock Function, replace with an API call\n",
    "\n",
    "tools.append(Tool.from_function(\n",
    "        name=\"ChangeRecord\",\n",
    "        func=record_change,  # Mock Function, replace with an api call\n",
    "        description=\"Use this when you need to update a change record in CMDB. This takes in a json document as the parameter. The element named 'instance' contains the instance and the element named 'changeType' is the change type.\"\n",
    "    ))"
   ]
  },
  {
   "cell_type": "code",
   "execution_count": null,
   "metadata": {
    "tags": []
   },
   "outputs": [],
   "source": [
    "llm = Bedrock(model_id=\"anthropic.claude-instant-v1\", client=boto3_bedrock, model_kwargs=model_parameter)\n",
    "\n",
    "react_agent = initialize_agent(tools, llm, agent=AgentType.ZERO_SHOT_REACT_DESCRIPTION, verbose=True)\n",
    "\n",
    "question = \"\"\"Human: Please list my EC2 instances with the a tag delete. \n",
    "Next, list the volumes of each of the instances and record the patch change record in the CMDB with a change type of 'PATCH'. \n",
    "Finally, for each of the instances stop the instance and tell me how many were stopped. Assistant:\"\"\"\n",
    "\n",
    "result = react_agent.run(question)\n",
    "\n",
    "print(f\"{result}\")"
   ]
  },
  {
   "cell_type": "markdown",
   "metadata": {},
   "source": [
    "## Generating the tool code\n",
    "Could you use GenAI to author the code in the tools? Sure! With caution, there is some variation in the code and \n",
    "may not be safe for execution without a human review.\n",
    "\n",
    "The following example uses the code generated by Claude to generate the tool. It replaces the EC2Search tool above with the boto python code."
   ]
  },
  {
   "cell_type": "code",
   "execution_count": null,
   "metadata": {
    "tags": []
   },
   "outputs": [],
   "source": [
    "import xml.etree.ElementTree as ET\n",
    "from IPython.display import display, Markdown, Latex\n",
    "\n",
    "prompt_data = \"\"\"\n",
    "Human: You are an AI python code generator. You write really great code.\n",
    "\n",
    "Write a python function named list_tagged_instances with one parameter named tagname. \n",
    "\n",
    "The function queries the boto3 library to return a list all of the EC2 instances that have a tag equal to the tagname parameter. \n",
    "\n",
    "return the code inside <code></code>.\n",
    "Computer:\"\"\"\n",
    "\n",
    "body = json.dumps({\"prompt\": prompt_data, \"max_tokens_to_sample\": 500})\n",
    "modelId = \"anthropic.claude-instant-v1\"  \n",
    "accept = \"application/json\"\n",
    "contentType = \"application/json\"\n",
    "\n",
    "response = boto3_bedrock.invoke_model(\n",
    "    body=body, modelId=modelId, accept=accept, contentType=contentType\n",
    ")\n",
    "response_body = json.loads(response.get(\"body\").read())\n",
    "\n",
    "tree = ET.ElementTree(ET.fromstring(response_body.get(\"completion\")))\n",
    "python_code = tree.getroot().text\n",
    "\n",
    "display(Markdown(f'```{python_code}```'))\n",
    "\n",
    "exec(python_code)\n",
    "\n"
   ]
  },
  {
   "cell_type": "markdown",
   "metadata": {},
   "source": [
    "## Executing the code\n",
    "If the code above looks reasonable, we can use it to run our agent.\n",
    "\n",
    "**Note - for this to work, you need an EC2 instance in this account with a tag named 'delete' and any value in the tag. It is case senstitive, so prior to executing this, create an EC2 instance and set it to the stopped state.**"
   ]
  },
  {
   "cell_type": "code",
   "execution_count": null,
   "metadata": {
    "tags": []
   },
   "outputs": [],
   "source": [
    "for tool in tools:\n",
    "    if tool.name == \"EC2Search\":\n",
    "        tool.func = list_tagged_instances\n",
    "        \n",
    "llm = Bedrock(model_id=\"anthropic.claude-instant-v1\", client=boto3_bedrock, model_kwargs=model_parameter)\n",
    "\n",
    "react_agent = initialize_agent(tools, llm, agent=AgentType.ZERO_SHOT_REACT_DESCRIPTION, verbose=True)\n",
    "\n",
    "question = \"\"\"Human: Please list my EC2 instances with the a tag delete. \n",
    "Next, patch each of the instances and record the patch change record in the CMDB with a change type of 'PATCH'. \n",
    "Finally, for each of the instances stop the instance and tell me how many were stopped. Assistant:\"\"\"\n",
    "\n",
    "result = react_agent.run(question)\n",
    "\n",
    "print(f\"{result}\")"
   ]
  },
  {
   "cell_type": "code",
   "execution_count": null,
   "metadata": {
    "tags": []
   },
   "outputs": [],
   "source": [
    "def list_volumes(instance_id):\n",
    "    ec2 = boto3.resource('ec2')\n",
    "    instance = ec2.Instance(instance_id)\n",
    "    retval = []\n",
    "    for volume in instance.volumes.all():\n",
    "        retval.append({\"id\": volume.id, \"size\": volume.size})\n",
    "    \n",
    "    return retval\n",
    "\n",
    "for tool in tools:\n",
    "    if tool.name == \"EC2Volumes\":\n",
    "        tool.func = list_volumes\n",
    "\n"
   ]
  },
  {
   "cell_type": "code",
   "execution_count": null,
   "metadata": {
    "tags": []
   },
   "outputs": [],
   "source": [
    "react_agent = initialize_agent(tools, llm, agent=AgentType.ZERO_SHOT_REACT_DESCRIPTION, verbose=True)\n",
    "\n",
    "question = \"\"\"Human: Please list my EC2 instances with the a tag delete. \n",
    "Next, list the volumes of each of the instances. \n",
    "Finally, report the id and size for each of the volumes in markdown grid by passing in an array of json objects with an element of id and size.\n",
    "\n",
    "Assistant:\"\"\"\n",
    "\n",
    "result = react_agent.run(question)\n",
    "\n",
    "Markdown(f\"{result}\")"
   ]
  },
  {
   "cell_type": "markdown",
   "metadata": {},
   "source": [
    "## Database Tools\n",
    "A common use of an agent is to look up a record in a database. It would not be practical to include the full database in the context, so you can provide tools that perform actions against the datebase that eliminates hallucinations while maintining the conversational interactions.\n",
    "\n",
    "### SQL Database Agent\n",
    "Langachain has a SQL Database agent for demonstrating how to ask questions of a DB to get answers. For details, read this document: https://python.langchain.com/docs/integrations/toolkits/sql_database\n",
    "\n",
    "The agent will load the schema of the DB into context and generate SQL statements based on natural language questions. The SQL statement is then executed against the database and the results returned.\n",
    "\n",
    "### Data Agents\n",
    "While the SQL Database agent is useful for data exploration and generating queries, there are also cases where you want to \n",
    "For specific entities, a tool can be created to pull data from the database to provide context next steps in the prompt.\n",
    "\n",
    "The following example will simulate a DB query for a customer in the customer table. Replace this code with a lookup ib DynamoDB or a relation database.\n",
    "\n",
    "You can see in the ```db_module.py``` just returns from an array held in memory, but replacing this code with a boto call to retreive a DynamoDb record would have the same effect."
   ]
  },
  {
   "cell_type": "code",
   "execution_count": null,
   "metadata": {},
   "outputs": [],
   "source": [
    "from db_module import  customer_lookup\n",
    "\n",
    "tools.append(Tool.from_function(\n",
    "        name=\"CustomerLookup\",\n",
    "        func=customer_lookup,  # Mock Function, replace with an api call\n",
    "        description=\"Use this when you need to lookup a customer by id.\"\n",
    "    ))\n"
   ]
  },
  {
   "cell_type": "code",
   "execution_count": null,
   "metadata": {
    "tags": []
   },
   "outputs": [],
   "source": [
    "react_agent = initialize_agent(tools, llm, agent=AgentType.ZERO_SHOT_REACT_DESCRIPTION, verbose=True)\n",
    "\n",
    "question = \"\"\"Human: write one sentence summary including order information about the customer with an id of 8.\n",
    "\n",
    "Assistant:\"\"\"\n",
    "\n",
    "result = react_agent.run(question)\n",
    "\n",
    "print(f\"{result}\")"
   ]
  },
  {
   "cell_type": "code",
   "execution_count": null,
   "metadata": {},
   "outputs": [],
   "source": []
  }
 ],
 "metadata": {
  "kernelspec": {
   "display_name": "Python 3 (ipykernel)",
   "language": "python",
   "name": "python3"
  },
  "language_info": {
   "codemirror_mode": {
    "name": "ipython",
    "version": 3
   },
   "file_extension": ".py",
   "mimetype": "text/x-python",
   "name": "python",
   "nbconvert_exporter": "python",
   "pygments_lexer": "ipython3",
   "version": "3.10.8"
  }
 },
 "nbformat": 4,
 "nbformat_minor": 4
}
